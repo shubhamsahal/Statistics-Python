{
 "cells": [
  {
   "cell_type": "code",
   "execution_count": 4,
   "id": "09fd7492",
   "metadata": {},
   "outputs": [],
   "source": [
    "import pandas as pd\n",
    "titanic = pd.read_csv(\"file:/C:/Users/SHUBHAM/DataSet_1/Titanic/train.csv\")"
   ]
  },
  {
   "cell_type": "code",
   "execution_count": 5,
   "id": "99ee0b2f",
   "metadata": {},
   "outputs": [
    {
     "data": {
      "text/plain": [
       "0    24.0\n",
       "Name: Age, dtype: float64"
      ]
     },
     "execution_count": 5,
     "metadata": {},
     "output_type": "execute_result"
    }
   ],
   "source": [
    "titanic['Age'].mode()"
   ]
  },
  {
   "cell_type": "code",
   "execution_count": 6,
   "id": "4e495702",
   "metadata": {},
   "outputs": [],
   "source": [
    "ls = [2,13,4,54,5]\n",
    "d = pd.DataFrame({\"m\":ls})"
   ]
  },
  {
   "cell_type": "code",
   "execution_count": 7,
   "id": "1d579557",
   "metadata": {},
   "outputs": [
    {
     "data": {
      "text/html": [
       "<div>\n",
       "<style scoped>\n",
       "    .dataframe tbody tr th:only-of-type {\n",
       "        vertical-align: middle;\n",
       "    }\n",
       "\n",
       "    .dataframe tbody tr th {\n",
       "        vertical-align: top;\n",
       "    }\n",
       "\n",
       "    .dataframe thead th {\n",
       "        text-align: right;\n",
       "    }\n",
       "</style>\n",
       "<table border=\"1\" class=\"dataframe\">\n",
       "  <thead>\n",
       "    <tr style=\"text-align: right;\">\n",
       "      <th></th>\n",
       "      <th>m</th>\n",
       "    </tr>\n",
       "  </thead>\n",
       "  <tbody>\n",
       "    <tr>\n",
       "      <th>0</th>\n",
       "      <td>2</td>\n",
       "    </tr>\n",
       "    <tr>\n",
       "      <th>1</th>\n",
       "      <td>13</td>\n",
       "    </tr>\n",
       "    <tr>\n",
       "      <th>2</th>\n",
       "      <td>4</td>\n",
       "    </tr>\n",
       "    <tr>\n",
       "      <th>3</th>\n",
       "      <td>54</td>\n",
       "    </tr>\n",
       "    <tr>\n",
       "      <th>4</th>\n",
       "      <td>5</td>\n",
       "    </tr>\n",
       "  </tbody>\n",
       "</table>\n",
       "</div>"
      ],
      "text/plain": [
       "    m\n",
       "0   2\n",
       "1  13\n",
       "2   4\n",
       "3  54\n",
       "4   5"
      ]
     },
     "execution_count": 7,
     "metadata": {},
     "output_type": "execute_result"
    }
   ],
   "source": [
    "d"
   ]
  },
  {
   "cell_type": "code",
   "execution_count": 8,
   "id": "1e5c99a1",
   "metadata": {},
   "outputs": [
    {
     "data": {
      "text/html": [
       "<div>\n",
       "<style scoped>\n",
       "    .dataframe tbody tr th:only-of-type {\n",
       "        vertical-align: middle;\n",
       "    }\n",
       "\n",
       "    .dataframe tbody tr th {\n",
       "        vertical-align: top;\n",
       "    }\n",
       "\n",
       "    .dataframe thead th {\n",
       "        text-align: right;\n",
       "    }\n",
       "</style>\n",
       "<table border=\"1\" class=\"dataframe\">\n",
       "  <thead>\n",
       "    <tr style=\"text-align: right;\">\n",
       "      <th></th>\n",
       "      <th>species</th>\n",
       "      <th>legs</th>\n",
       "      <th>wings</th>\n",
       "    </tr>\n",
       "  </thead>\n",
       "  <tbody>\n",
       "    <tr>\n",
       "      <th>eagle</th>\n",
       "      <td>bird</td>\n",
       "      <td>2</td>\n",
       "      <td>2.0</td>\n",
       "    </tr>\n",
       "    <tr>\n",
       "      <th>tiger</th>\n",
       "      <td>mammal</td>\n",
       "      <td>4</td>\n",
       "      <td>NaN</td>\n",
       "    </tr>\n",
       "    <tr>\n",
       "      <th>spider</th>\n",
       "      <td>arthropod</td>\n",
       "      <td>8</td>\n",
       "      <td>0.0</td>\n",
       "    </tr>\n",
       "    <tr>\n",
       "      <th>duck</th>\n",
       "      <td>bird</td>\n",
       "      <td>2</td>\n",
       "      <td>NaN</td>\n",
       "    </tr>\n",
       "  </tbody>\n",
       "</table>\n",
       "</div>"
      ],
      "text/plain": [
       "          species  legs  wings\n",
       "eagle        bird     2    2.0\n",
       "tiger      mammal     4    NaN\n",
       "spider  arthropod     8    0.0\n",
       "duck         bird     2    NaN"
      ]
     },
     "execution_count": 8,
     "metadata": {},
     "output_type": "execute_result"
    }
   ],
   "source": [
    "import numpy as np\n",
    "import pandas as pd\n",
    "\n",
    "df = pd.DataFrame([('bird', 2, 2),\n",
    "                   ('mammal', 4, np.nan),\n",
    "                   ('arthropod', 8, 0),\n",
    "                   ('bird', 2, np.nan)],\n",
    "                  index=('eagle', 'tiger', 'spider', 'duck'),\n",
    "                  columns=('species', 'legs', 'wings'))\n",
    "df"
   ]
  },
  {
   "cell_type": "code",
   "execution_count": 9,
   "id": "8524a642",
   "metadata": {},
   "outputs": [
    {
     "data": {
      "text/html": [
       "<div>\n",
       "<style scoped>\n",
       "    .dataframe tbody tr th:only-of-type {\n",
       "        vertical-align: middle;\n",
       "    }\n",
       "\n",
       "    .dataframe tbody tr th {\n",
       "        vertical-align: top;\n",
       "    }\n",
       "\n",
       "    .dataframe thead th {\n",
       "        text-align: right;\n",
       "    }\n",
       "</style>\n",
       "<table border=\"1\" class=\"dataframe\">\n",
       "  <thead>\n",
       "    <tr style=\"text-align: right;\">\n",
       "      <th></th>\n",
       "      <th>species</th>\n",
       "      <th>legs</th>\n",
       "      <th>wings</th>\n",
       "    </tr>\n",
       "  </thead>\n",
       "  <tbody>\n",
       "    <tr>\n",
       "      <th>0</th>\n",
       "      <td>bird</td>\n",
       "      <td>2.0</td>\n",
       "      <td>0.0</td>\n",
       "    </tr>\n",
       "    <tr>\n",
       "      <th>1</th>\n",
       "      <td>NaN</td>\n",
       "      <td>NaN</td>\n",
       "      <td>2.0</td>\n",
       "    </tr>\n",
       "  </tbody>\n",
       "</table>\n",
       "</div>"
      ],
      "text/plain": [
       "  species  legs  wings\n",
       "0    bird   2.0    0.0\n",
       "1     NaN   NaN    2.0"
      ]
     },
     "execution_count": 9,
     "metadata": {},
     "output_type": "execute_result"
    }
   ],
   "source": [
    "df.mode()"
   ]
  },
  {
   "cell_type": "code",
   "execution_count": 10,
   "id": "ff441407",
   "metadata": {},
   "outputs": [
    {
     "data": {
      "text/html": [
       "<div>\n",
       "<style scoped>\n",
       "    .dataframe tbody tr th:only-of-type {\n",
       "        vertical-align: middle;\n",
       "    }\n",
       "\n",
       "    .dataframe tbody tr th {\n",
       "        vertical-align: top;\n",
       "    }\n",
       "\n",
       "    .dataframe thead th {\n",
       "        text-align: right;\n",
       "    }\n",
       "</style>\n",
       "<table border=\"1\" class=\"dataframe\">\n",
       "  <thead>\n",
       "    <tr style=\"text-align: right;\">\n",
       "      <th></th>\n",
       "      <th>A</th>\n",
       "      <th>B</th>\n",
       "      <th>C</th>\n",
       "      <th>D</th>\n",
       "    </tr>\n",
       "  </thead>\n",
       "  <tbody>\n",
       "    <tr>\n",
       "      <th>0</th>\n",
       "      <td>14</td>\n",
       "      <td>5</td>\n",
       "      <td>20</td>\n",
       "      <td>14</td>\n",
       "    </tr>\n",
       "    <tr>\n",
       "      <th>1</th>\n",
       "      <td>4</td>\n",
       "      <td>23</td>\n",
       "      <td>20</td>\n",
       "      <td>3</td>\n",
       "    </tr>\n",
       "    <tr>\n",
       "      <th>2</th>\n",
       "      <td>5</td>\n",
       "      <td>54</td>\n",
       "      <td>7</td>\n",
       "      <td>6</td>\n",
       "    </tr>\n",
       "    <tr>\n",
       "      <th>3</th>\n",
       "      <td>4</td>\n",
       "      <td>23</td>\n",
       "      <td>3</td>\n",
       "      <td>2</td>\n",
       "    </tr>\n",
       "    <tr>\n",
       "      <th>4</th>\n",
       "      <td>1</td>\n",
       "      <td>23</td>\n",
       "      <td>8</td>\n",
       "      <td>6</td>\n",
       "    </tr>\n",
       "  </tbody>\n",
       "</table>\n",
       "</div>"
      ],
      "text/plain": [
       "    A   B   C   D\n",
       "0  14   5  20  14\n",
       "1   4  23  20   3\n",
       "2   5  54   7   6\n",
       "3   4  23   3   2\n",
       "4   1  23   8   6"
      ]
     },
     "execution_count": 10,
     "metadata": {},
     "output_type": "execute_result"
    }
   ],
   "source": [
    "# importing pandas as pd\n",
    "import pandas as pd\n",
    "\n",
    "# Creating the dataframe\n",
    "df=pd.DataFrame({\"A\":[14,4,5,4,1],\n",
    "                 \"B\":[5,2,54,3,2],\n",
    "                 \"C\":[20,20,7,3,8],\n",
    "                 \"D\":[14,3,6,2,6]})\n",
    "\n",
    "# Print the dataframe\n",
    "# df['B'] = df['B'].replace(to_replace=[2,3], value = 20)\n",
    "df['B'] = df['B'].replace([2,3],23)\n",
    "df"
   ]
  },
  {
   "cell_type": "code",
   "execution_count": 11,
   "id": "af48dfcc",
   "metadata": {},
   "outputs": [
    {
     "data": {
      "text/plain": [
       "23.0"
      ]
     },
     "execution_count": 11,
     "metadata": {},
     "output_type": "execute_result"
    }
   ],
   "source": [
    "df['B'].median()"
   ]
  },
  {
   "cell_type": "code",
   "execution_count": null,
   "id": "e440e79f",
   "metadata": {},
   "outputs": [],
   "source": [
    "import pandas as pd\n",
    "import numpy as np\n",
    "from scipy import stats\n",
    " \n",
    "#Create a DataFrame\n",
    "d = {\n",
    "    'Name':['Alisa','Bobby','Cathrine','Madonna','Rocky','Sebastian','Jaqluine',\n",
    "   'Rahul','David','Andrew','Ajay','Teresa'],\n",
    "   'Score1':[62,47,55,74,31,77,85,63,42,32,71,57],\n",
    "   'Score2':[89,87,67,55,47,72,76,79,44,92,99,69]}\n",
    " \n",
    " \n",
    "df = pd.DataFrame(d)\n",
    "scipy.stats.hmean(df['Score1'])"
   ]
  },
  {
   "cell_type": "code",
   "execution_count": 17,
   "id": "0526aa8a",
   "metadata": {},
   "outputs": [
    {
     "data": {
      "text/plain": [
       "array([52.4769906 , 68.56766396])"
      ]
     },
     "execution_count": 17,
     "metadata": {},
     "output_type": "execute_result"
    }
   ],
   "source": [
    "# Harmonic Mean of the  column in dataframe\n",
    "from scipy import stats\n",
    "\n",
    " \n",
    "stats.hmean(df.iloc[:,1:3],axis=0)"
   ]
  },
  {
   "cell_type": "code",
   "execution_count": 18,
   "id": "ef3c1fc3",
   "metadata": {},
   "outputs": [
    {
     "data": {
      "text/plain": [
       "2.75"
      ]
     },
     "execution_count": 18,
     "metadata": {},
     "output_type": "execute_result"
    }
   ],
   "source": [
    "import numpy as np\n",
    "\n",
    "ar = np.array([2,2,3,4])\n",
    "\n",
    "np.mean(ar)"
   ]
  },
  {
   "cell_type": "code",
   "execution_count": 19,
   "id": "158d330d",
   "metadata": {},
   "outputs": [
    {
     "data": {
      "text/plain": [
       "0.82915619758885"
      ]
     },
     "execution_count": 19,
     "metadata": {},
     "output_type": "execute_result"
    }
   ],
   "source": [
    "np.std(ar)"
   ]
  },
  {
   "cell_type": "code",
   "execution_count": 20,
   "id": "2be673cb",
   "metadata": {},
   "outputs": [
    {
     "data": {
      "text/plain": [
       "2.5"
      ]
     },
     "execution_count": 20,
     "metadata": {},
     "output_type": "execute_result"
    }
   ],
   "source": [
    "np.median(ar)"
   ]
  },
  {
   "cell_type": "code",
   "execution_count": 27,
   "id": "b784034f",
   "metadata": {},
   "outputs": [
    {
     "data": {
      "text/plain": [
       "0.5"
      ]
     },
     "execution_count": 27,
     "metadata": {},
     "output_type": "execute_result"
    }
   ],
   "source": [
    "import statistics as s\n",
    "\n",
    "\n",
    "np.std(np.array([2,3]))"
   ]
  },
  {
   "cell_type": "code",
   "execution_count": 29,
   "id": "7234e21b",
   "metadata": {},
   "outputs": [
    {
     "data": {
      "text/plain": [
       "3.5"
      ]
     },
     "execution_count": 29,
     "metadata": {},
     "output_type": "execute_result"
    }
   ],
   "source": [
    "import statistics as stat\n",
    "\n",
    "d1 = [1,2,3,4,5,7]\n",
    "d2 = [1,2,3,4,5,7]\n",
    "stat.median(d2)\n",
    "stat.median_low(d1)\n",
    "stat.median_high(d2)\n",
    "stat.median_grouped(d1)"
   ]
  },
  {
   "cell_type": "code",
   "execution_count": 30,
   "id": "79dfe7a3",
   "metadata": {},
   "outputs": [
    {
     "data": {
      "text/plain": [
       "48.0"
      ]
     },
     "execution_count": 30,
     "metadata": {},
     "output_type": "execute_result"
    }
   ],
   "source": [
    "stat.harmonic_mean([40, 60])"
   ]
  },
  {
   "cell_type": "code",
   "execution_count": 31,
   "id": "35c5041c",
   "metadata": {},
   "outputs": [
    {
     "data": {
      "text/plain": [
       "3.0000000000000004"
      ]
     },
     "execution_count": 31,
     "metadata": {},
     "output_type": "execute_result"
    }
   ],
   "source": [
    "stat.geometric_mean([3,3,3])"
   ]
  },
  {
   "cell_type": "code",
   "execution_count": 32,
   "id": "e0f8f994",
   "metadata": {},
   "outputs": [
    {
     "data": {
      "text/plain": [
       "4.25"
      ]
     },
     "execution_count": 32,
     "metadata": {},
     "output_type": "execute_result"
    }
   ],
   "source": [
    "stat.fmean([3.5, 4.0, 5.25])"
   ]
  },
  {
   "cell_type": "code",
   "execution_count": 33,
   "id": "833d3a55",
   "metadata": {},
   "outputs": [
    {
     "data": {
      "text/plain": [
       "['b', 'n']"
      ]
     },
     "execution_count": 33,
     "metadata": {},
     "output_type": "execute_result"
    }
   ],
   "source": [
    "d1 = [1,2,4,2,4,2,8,6,4,2,3,8]\n",
    "d2 = [\"red\", \"blue\", \"blue\", \"red\", \"green\", \"red\", \"red\"]\n",
    "stat.mode(d1)\n",
    "stat.mode(d2)\n",
    "stat.multimode('aaabbbbnnnn')"
   ]
  },
  {
   "cell_type": "code",
   "execution_count": 34,
   "id": "89999f8f",
   "metadata": {},
   "outputs": [
    {
     "data": {
      "text/plain": [
       "['b', 'd', 'f']"
      ]
     },
     "execution_count": 34,
     "metadata": {},
     "output_type": "execute_result"
    }
   ],
   "source": [
    "stat.multimode('aabbbbccddddeeffffgg')"
   ]
  },
  {
   "cell_type": "code",
   "execution_count": 35,
   "id": "bf5ba407",
   "metadata": {},
   "outputs": [
    {
     "data": {
      "text/plain": [
       "0.986893273527251"
      ]
     },
     "execution_count": 35,
     "metadata": {},
     "output_type": "execute_result"
    }
   ],
   "source": [
    "stat.pstdev([1.5, 2.5, 2.5, 2.75, 3.25, 4.75])"
   ]
  },
  {
   "cell_type": "code",
   "execution_count": 36,
   "id": "d772bb00",
   "metadata": {},
   "outputs": [
    {
     "data": {
      "text/plain": [
       "32"
      ]
     },
     "execution_count": 36,
     "metadata": {},
     "output_type": "execute_result"
    }
   ],
   "source": [
    "data = [1,9]\n",
    "m = stat.mean(data)\n",
    "stat.variance(data, m)"
   ]
  },
  {
   "cell_type": "code",
   "execution_count": 37,
   "id": "6a7c2b93",
   "metadata": {},
   "outputs": [],
   "source": [
    "student = [\n",
    "    {'name':'Krishna','age':12,'marks':56},\n",
    "    {'name':'Rakesh','age':19,'marks':6},\n",
    "    {'name':'Ankush','age':14,'marks':24},\n",
    "    {'name':'Rakesh','age':34,'marks':83},\n",
    "]"
   ]
  },
  {
   "cell_type": "code",
   "execution_count": 39,
   "id": "59d5ee34",
   "metadata": {},
   "outputs": [
    {
     "data": {
      "text/plain": [
       "[33, 64, 16, 17, 22]"
      ]
     },
     "execution_count": 39,
     "metadata": {},
     "output_type": "execute_result"
    }
   ],
   "source": [
    "ls = [23,54,6,7,12]\n",
    "\n",
    "def add(element):\n",
    "    return element+10\n",
    "\n",
    "new_list = map(add,ls)\n",
    "type(new_list)\n",
    "list(new_list)"
   ]
  },
  {
   "cell_type": "code",
   "execution_count": 40,
   "id": "da7c9c37",
   "metadata": {},
   "outputs": [],
   "source": [
    "student = [\n",
    "    {'name':'Krishna','age':12,'marks':56},\n",
    "    {'name':'Rakesh','age':19,'marks':6},\n",
    "    {'name':'Ankush','age':14,'marks':24},\n",
    "    {'name':'Rakesh','age':34,'marks':83},\n",
    "]"
   ]
  },
  {
   "cell_type": "code",
   "execution_count": 41,
   "id": "06c7d8ed",
   "metadata": {},
   "outputs": [],
   "source": [
    "def addResult(element):\n",
    "    if element['marks']>= 35:\n",
    "        element['result'] = 'pass'\n",
    "    else:\n",
    "        element['result'] = 'fail'\n",
    "    return element"
   ]
  },
  {
   "cell_type": "code",
   "execution_count": 42,
   "id": "e502d269",
   "metadata": {},
   "outputs": [
    {
     "data": {
      "text/plain": [
       "[{'name': 'Krishna', 'age': 12, 'marks': 56, 'result': 'pass'},\n",
       " {'name': 'Rakesh', 'age': 19, 'marks': 6, 'result': 'fail'},\n",
       " {'name': 'Ankush', 'age': 14, 'marks': 24, 'result': 'fail'},\n",
       " {'name': 'Rakesh', 'age': 34, 'marks': 83, 'result': 'pass'}]"
      ]
     },
     "execution_count": 42,
     "metadata": {},
     "output_type": "execute_result"
    }
   ],
   "source": [
    "new_Stu = map(addResult,student)\n",
    "list(new_Stu)"
   ]
  },
  {
   "cell_type": "code",
   "execution_count": 43,
   "id": "60fc4025",
   "metadata": {},
   "outputs": [
    {
     "name": "stdout",
     "output_type": "stream",
     "text": [
      "{'a': 'java', 'fee': 890}\n"
     ]
    }
   ],
   "source": [
    "d = {'a':'java','fee':890}\n",
    "print(d)"
   ]
  },
  {
   "cell_type": "code",
   "execution_count": 44,
   "id": "28def929",
   "metadata": {},
   "outputs": [
    {
     "name": "stdout",
     "output_type": "stream",
     "text": [
      "{'a': 'java', 'fee': 890, 'duration': '4 months'}\n"
     ]
    }
   ],
   "source": [
    "d['duration'] = '4 months'\n",
    "print(d)"
   ]
  },
  {
   "cell_type": "code",
   "execution_count": 45,
   "id": "318283a5",
   "metadata": {},
   "outputs": [
    {
     "data": {
      "text/plain": [
       "[6, 12, 12, 4]"
      ]
     },
     "execution_count": 45,
     "metadata": {},
     "output_type": "execute_result"
    }
   ],
   "source": [
    "ls = [13,3,43,6,7,12,7,15,12,4]\n",
    "\n",
    "def findEven(element):\n",
    "    return element % 2 == 0\n",
    "       \n",
    "    \n",
    "evenList = filter(findEven,ls)\n",
    "list(evenList)"
   ]
  },
  {
   "cell_type": "code",
   "execution_count": 46,
   "id": "97dfb426",
   "metadata": {},
   "outputs": [],
   "source": [
    "student = [\n",
    "    {'name':'Krishna','age':12,'marks':56},\n",
    "    {'name':'Rakesh','age':19,'marks':6},\n",
    "    {'name':'Ankush','age':14,'marks':24},\n",
    "    {'name':'Rakesh','age':34,'marks':83},\n",
    "]"
   ]
  },
  {
   "cell_type": "code",
   "execution_count": 47,
   "id": "c9182889",
   "metadata": {},
   "outputs": [
    {
     "data": {
      "text/plain": [
       "[{'name': 'Rakesh', 'age': 19, 'marks': 6},\n",
       " {'name': 'Rakesh', 'age': 34, 'marks': 83}]"
      ]
     },
     "execution_count": 47,
     "metadata": {},
     "output_type": "execute_result"
    }
   ],
   "source": [
    "def findStu(element):\n",
    "    return element['age']>=18\n",
    "\n",
    "eligible_stu = filter(findStu,student)\n",
    "list(eligible_stu)"
   ]
  },
  {
   "cell_type": "code",
   "execution_count": 48,
   "id": "f6224237",
   "metadata": {},
   "outputs": [
    {
     "name": "stdout",
     "output_type": "stream",
     "text": [
      "5.4\n"
     ]
    }
   ],
   "source": [
    "import numpy as np\n",
    "import statistics as stat\n",
    "\n",
    "ar = np.array([9,3,6,5,4])\n",
    "\n",
    "print(stat.fmean(ar))"
   ]
  },
  {
   "cell_type": "code",
   "execution_count": 49,
   "id": "b46295b9",
   "metadata": {},
   "outputs": [
    {
     "data": {
      "text/plain": [
       "9"
      ]
     },
     "execution_count": 49,
     "metadata": {},
     "output_type": "execute_result"
    }
   ],
   "source": [
    "stat.mode(ar)"
   ]
  },
  {
   "cell_type": "code",
   "execution_count": 50,
   "id": "86423c00",
   "metadata": {},
   "outputs": [
    {
     "data": {
      "text/plain": [
       "5.5"
      ]
     },
     "execution_count": 50,
     "metadata": {},
     "output_type": "execute_result"
    }
   ],
   "source": [
    "# 2 4 5 6 9\n",
    "ar = np.array([2,4, 5,6,9,10])\n",
    "stat.median(ar)"
   ]
  },
  {
   "cell_type": "code",
   "execution_count": null,
   "id": "436a36bb",
   "metadata": {},
   "outputs": [],
   "source": []
  }
 ],
 "metadata": {
  "kernelspec": {
   "display_name": "Python 3 (ipykernel)",
   "language": "python",
   "name": "python3"
  },
  "language_info": {
   "codemirror_mode": {
    "name": "ipython",
    "version": 3
   },
   "file_extension": ".py",
   "mimetype": "text/x-python",
   "name": "python",
   "nbconvert_exporter": "python",
   "pygments_lexer": "ipython3",
   "version": "3.10.8"
  }
 },
 "nbformat": 4,
 "nbformat_minor": 5
}
